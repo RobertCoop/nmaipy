{
 "cells": [
  {
   "cell_type": "code",
   "execution_count": null,
   "id": "d9ae4e6f-b444-4997-acba-a3d139c4305a",
   "metadata": {
    "tags": []
   },
   "outputs": [],
   "source": [
    "import os\n",
    "import sys\n",
    "from pathlib import Path\n",
    "import logging\n",
    "\n",
    "from tqdm.notebook import tqdm\n",
    "import geopandas as gpd\n",
    "import pandas as pd\n",
    "\n",
    "sys.path.append(\"..\")\n",
    "from nmaipy.feature_api import FeatureApi\n",
    "from nmaipy.constants import AREA_CRS, API_CRS\n",
    "import nmaipy.coverage_utils\n",
    "\n",
    "SINCE=\"2007-01-01\"\n",
    "\n",
    "DATA_DIR = Path(\"../data\")\n",
    "COVERAGE_CHUNK_DIR = DATA_DIR / \"coverage_chunks\"\n",
    "POINTS_FILE = DATA_DIR / \"points.csv\"\n",
    "ID_COL = \"point_id\"\n",
    "API_KEY = os.environ[\"API_KEY\"]"
   ]
  },
  {
   "cell_type": "markdown",
   "id": "38c6ff2a-60b7-4e07-996d-3966fdc5d282",
   "metadata": {},
   "source": [
    "## Load Points\n",
    "Load a file of points to check for coverage of imagery, 3D and AI."
   ]
  },
  {
   "cell_type": "code",
   "execution_count": null,
   "id": "205364b1-ed15-4d5c-85d0-182e90d1fa19",
   "metadata": {
    "tags": []
   },
   "outputs": [],
   "source": [
    "df_points = pd.read_csv(POINTS_FILE, index_col = 0)\n",
    "df_points[\"until\"] = pd.to_datetime(df_points[\"until\"], format=\"%d/%m/%Y\")\n",
    "df_points.until.hist()\n",
    "df_points"
   ]
  },
  {
   "cell_type": "code",
   "execution_count": null,
   "id": "5363c80c",
   "metadata": {},
   "outputs": [],
   "source": [
    "if \"since\" not in df_points.columns:\n",
    "    df_points[\"since\"] = SINCE # A very old date just to have a since column.\n",
    "df_points[\"until\"] = df_points[\"until\"].dt.strftime(\"%Y-%m-%d\")"
   ]
  },
  {
   "cell_type": "markdown",
   "id": "e7c877cc-e0d4-4145-b693-33d8abefa338",
   "metadata": {},
   "source": [
    "## Test Coverage\n",
    "For every point, get a full history of all surveys that intersect with it from the coverage API, and whether the survey has AI and/or 3D resources attached. This doesn't tell us what generation of AI data is available - that will require a subsequent run against the AI Feature API coverage endpoint to determine versions (or just pulling the data and ignoring version)."
   ]
  },
  {
   "cell_type": "code",
   "execution_count": null,
   "id": "323a6c23-1209-41f3-88a6-1ce2ee7d57bc",
   "metadata": {
    "tags": []
   },
   "outputs": [],
   "source": [
    "CHUNK_SIZE = 10000 # For big tests, useful to save chunks of coverage calls in case of failure.\n",
    "\n",
    "def get_survey_resource_id(resources):\n",
    "    \"\"\"\n",
    "    Get the survey resource id from the resources list. This is the id that can be used with the AI Feature API to get an exact match (rather than since/until dates).\n",
    "    \"\"\"\n",
    "    if \"aifeatures\" in resources:\n",
    "        return resources[\"aifeatures\"][-1][\"id\"]\n",
    "    else:\n",
    "        return None\n",
    "\n",
    "df_coverage = None\n",
    "\n",
    "Path(COVERAGE_CHUNK_DIR).mkdir(parents=True, exist_ok=True)\n",
    "\n",
    "for i in tqdm(range(0, len(df_points), CHUNK_SIZE)):\n",
    "    f = os.path.join(COVERAGE_CHUNK_DIR, f\"coverage_chunk_{i}-{i+CHUNK_SIZE}.parquet\")\n",
    "    if not os.path.exists(f):\n",
    "        df_point_chunk = df_points.iloc[i:i+CHUNK_SIZE,:]\n",
    "        logging.debug(f\"Pulling chunk from API for {f}.\")\n",
    "        # Multi-threaded pulls are ok - the API is designed to cope fine with 10-20 threads running in parallel pulling requests.\n",
    "        c = nmaipy.coverage_utils.threaded_get_coverage_from_point_results(\n",
    "            df_point_chunk, since_col=\"since\", until_col=\"until\", apikey=API_KEY, threads=20\n",
    "        )\n",
    "        c_with_idx = []\n",
    "        for j in range(len(c)):\n",
    "            row_id = df_point_chunk.iloc[j].name\n",
    "            c_tmp = c[j].copy()\n",
    "            if len(c_tmp) > 0:\n",
    "                c_tmp[ID_COL] = row_id\n",
    "                c_with_idx.append(c_tmp)\n",
    "        if len(c_with_idx) > 0:\n",
    "            c = (pd\n",
    "                 .concat(c_with_idx)\n",
    "                )\n",
    "            c[\"survey_resource_id\"] = c.resources.apply(get_survey_resource_id)\n",
    "            c = (c\n",
    "                 .drop(columns=[\"resources\"])\n",
    "                 .rename(columns={\"id\": \"survey_id\"})\n",
    "                )\n",
    "            c.to_parquet(f)\n",
    "        else:\n",
    "            c = None\n",
    "\n",
    "    else:\n",
    "        logging.debug(f\"Reading chunk from parquet for {f}.\")\n",
    "        c = pd.read_parquet(f)\n",
    "\n",
    "    if c is not None:\n",
    "        c = (c\n",
    "             .loc[:,[ID_COL, \"captureDate\", \"survey_id\", \"survey_resource_id\", \"aifeatures\", \"3d\"]]\n",
    "             .set_index(ID_COL)\n",
    "            )\n",
    "        df_coverage = pd.concat([df_coverage, c])"
   ]
  },
  {
   "cell_type": "code",
   "execution_count": null,
   "id": "6da6a09d",
   "metadata": {},
   "outputs": [],
   "source": [
    "# The full set of surveys covered by each point, regardless of whether it has AI.\n",
    "df = df_points.merge(df_coverage, left_index=True, right_index=True, how=\"right\")\n",
    "df"
   ]
  },
  {
   "cell_type": "code",
   "execution_count": null,
   "id": "d293ae7b",
   "metadata": {},
   "outputs": [],
   "source": [
    "# The latest survey for each point within the point's since-until range, regardless of whether it has AI.\n",
    "df_latest = df.sort_values(\"captureDate\").groupby(ID_COL).last()\n",
    "df_latest"
   ]
  },
  {
   "cell_type": "code",
   "execution_count": null,
   "id": "10bd3162",
   "metadata": {},
   "outputs": [],
   "source": [
    "# Show what fraction of the latest survey has AI features\n",
    "df_latest.aifeatures.value_counts() / len(df_latest)"
   ]
  },
  {
   "cell_type": "code",
   "execution_count": null,
   "id": "7a6861af",
   "metadata": {},
   "outputs": [],
   "source": [
    "# The latest survey for each point within the point's since-until range, only if it has AI.\n",
    "df_ai_latest = df.query(\"aifeatures == True\").sort_values(\"captureDate\").groupby(ID_COL).last()\n",
    "df_ai_latest"
   ]
  },
  {
   "cell_type": "code",
   "execution_count": null,
   "id": "97d773b2",
   "metadata": {},
   "outputs": [],
   "source": [
    "# Show what fraction have a valid AI result already\n",
    "display(f\" {len(df_ai_latest) / len(df_points) * 100:0.1f}% of the originally provided points have valid AI coverage in the since-until range.\")\n",
    "display(f\" {len(df_ai_latest) / len(df_latest) * 100:0.1f}% of the points that have at least one valid imagery survey have valid AI coverage in the since-until range.\")"
   ]
  },
  {
   "cell_type": "markdown",
   "id": "9fd1d445",
   "metadata": {},
   "source": [
    "## Which points don't have AI coverage?\n",
    "It is often useful to explore which points don't have AI coverage yet (but do have imagery coverage). The following section identifies these points, and also has an algorithm to produce a set of surveys which will incrementally increase the AI coverage (a greedy search for valid surveys that match between the largest set of points). This allows us to answer the question \"if we ran AI on this list of extra surveys, we could increase AI coverage from x% to y%\"."
   ]
  },
  {
   "cell_type": "code",
   "execution_count": null,
   "id": "60b3a5f8",
   "metadata": {},
   "outputs": [],
   "source": [
    "# Get the subset of points in \"df\" that have no coverage (i.e. don't fall in \"df_ai_latest\")\n",
    "df_no_coverage = df.loc[~df.index.isin(df_ai_latest.index),:]\n",
    "df_no_coverage"
   ]
  },
  {
   "cell_type": "code",
   "execution_count": null,
   "id": "877836ca",
   "metadata": {},
   "outputs": [],
   "source": [
    "df_no_coverage_latest = df_no_coverage.sort_values(\"captureDate\").groupby(ID_COL).last()\n",
    "df_no_coverage_latest"
   ]
  },
  {
   "cell_type": "code",
   "execution_count": null,
   "id": "a286a139",
   "metadata": {},
   "outputs": [],
   "source": [
    "f\" {len(df_no_coverage_latest) / len(df_latest) * 100:0.1f}% of the points that have valid imagery DON'T have valid AI coverage in the since-until range.\""
   ]
  },
  {
   "cell_type": "code",
   "execution_count": null,
   "id": "6fecc0ee",
   "metadata": {},
   "outputs": [],
   "source": [
    "# Iteratively cycle through identifying the most common \"survey_id\" in df_no_coverage, and then remove all rows that have coverage on that survey_id.\n",
    "\n",
    "df_surveys_to_run = []\n",
    "SURVEY_NUMBER_BUDGET = 200\n",
    "\n",
    "for i in range(SURVEY_NUMBER_BUDGET):\n",
    "    most_common_survey = df_no_coverage.survey_id.value_counts().index[0]\n",
    "    capture_date = df_no_coverage.query(\"survey_id == @most_common_survey\").captureDate.iloc[0]\n",
    "    df_surveys_to_run.append({\"survey_id\": most_common_survey, \"captureDate\": capture_date})\n",
    "    idx_covered_by_most_common_survey = df_no_coverage.query(\"survey_id == @most_common_survey\").index\n",
    "    \n",
    "    df_no_coverage = df_no_coverage.loc[~df_no_coverage.index.isin(idx_covered_by_most_common_survey),:]\n",
    "df_surveys_to_run = pd.DataFrame(df_surveys_to_run).set_index(\"survey_id\")\n",
    "df_surveys_to_run"
   ]
  },
  {
   "cell_type": "code",
   "execution_count": null,
   "id": "1db4c313",
   "metadata": {},
   "outputs": [],
   "source": [
    "df_no_coverage_latest = df_no_coverage.sort_values(\"captureDate\").groupby(ID_COL).last()\n",
    "df_no_coverage_latest"
   ]
  },
  {
   "cell_type": "code",
   "execution_count": null,
   "id": "5506a254",
   "metadata": {},
   "outputs": [],
   "source": [
    "frac_with_ai_already = len(df_ai_latest.query('aifeatures')) / len(df_latest)\n",
    "frac_without_ai_after_extra_surveys = len(df_no_coverage_latest) / len(df_latest)\n",
    "simulated_num_with_coverage = len(df_latest) - len(df_no_coverage_latest)\n",
    "\n",
    "display(f\"If an additional {SURVEY_NUMBER_BUDGET} surveys are run with AI, the AI coverage (out of possible imagery surveys) would increase from {frac_with_ai_already*100:0.1f}% to {(1-frac_without_ai_after_extra_surveys)*100:0.1f}%\")\n",
    "display(f\"i.e. {simulated_num_with_coverage:,} points covered in total, out of the original {len(df_points):,} provided ({simulated_num_with_coverage / len(df_points)*100:0.1f}%) after running  {SURVEY_NUMBER_BUDGET} surveys.\")"
   ]
  },
  {
   "cell_type": "code",
   "execution_count": null,
   "id": "8b78ff67",
   "metadata": {},
   "outputs": [],
   "source": [
    "df.to_parquet(DATA_DIR / f\"{POINTS_FILE.stem}_all.parquet\")\n",
    "df.query(\"aifeatures\").to_parquet(DATA_DIR / f\"{POINTS_FILE.stem}_all_with_ai_coverage.parquet\")\n",
    "df_latest.to_parquet(DATA_DIR / f\"{POINTS_FILE.stem}_latest_with_ai_coverage.parquet\")\n",
    "df_surveys_to_run.to_csv(DATA_DIR / f\"{POINTS_FILE.stem}_surveys_to_run.csv\")"
   ]
  }
 ],
 "metadata": {
  "availableInstances": [
   {
    "_defaultOrder": 0,
    "_isFastLaunch": true,
    "category": "General purpose",
    "gpuNum": 0,
    "hideHardwareSpecs": false,
    "memoryGiB": 4,
    "name": "ml.t3.medium",
    "vcpuNum": 2
   },
   {
    "_defaultOrder": 1,
    "_isFastLaunch": false,
    "category": "General purpose",
    "gpuNum": 0,
    "hideHardwareSpecs": false,
    "memoryGiB": 8,
    "name": "ml.t3.large",
    "vcpuNum": 2
   },
   {
    "_defaultOrder": 2,
    "_isFastLaunch": false,
    "category": "General purpose",
    "gpuNum": 0,
    "hideHardwareSpecs": false,
    "memoryGiB": 16,
    "name": "ml.t3.xlarge",
    "vcpuNum": 4
   },
   {
    "_defaultOrder": 3,
    "_isFastLaunch": false,
    "category": "General purpose",
    "gpuNum": 0,
    "hideHardwareSpecs": false,
    "memoryGiB": 32,
    "name": "ml.t3.2xlarge",
    "vcpuNum": 8
   },
   {
    "_defaultOrder": 4,
    "_isFastLaunch": true,
    "category": "General purpose",
    "gpuNum": 0,
    "hideHardwareSpecs": false,
    "memoryGiB": 8,
    "name": "ml.m5.large",
    "vcpuNum": 2
   },
   {
    "_defaultOrder": 5,
    "_isFastLaunch": false,
    "category": "General purpose",
    "gpuNum": 0,
    "hideHardwareSpecs": false,
    "memoryGiB": 16,
    "name": "ml.m5.xlarge",
    "vcpuNum": 4
   },
   {
    "_defaultOrder": 6,
    "_isFastLaunch": false,
    "category": "General purpose",
    "gpuNum": 0,
    "hideHardwareSpecs": false,
    "memoryGiB": 32,
    "name": "ml.m5.2xlarge",
    "vcpuNum": 8
   },
   {
    "_defaultOrder": 7,
    "_isFastLaunch": false,
    "category": "General purpose",
    "gpuNum": 0,
    "hideHardwareSpecs": false,
    "memoryGiB": 64,
    "name": "ml.m5.4xlarge",
    "vcpuNum": 16
   },
   {
    "_defaultOrder": 8,
    "_isFastLaunch": false,
    "category": "General purpose",
    "gpuNum": 0,
    "hideHardwareSpecs": false,
    "memoryGiB": 128,
    "name": "ml.m5.8xlarge",
    "vcpuNum": 32
   },
   {
    "_defaultOrder": 9,
    "_isFastLaunch": false,
    "category": "General purpose",
    "gpuNum": 0,
    "hideHardwareSpecs": false,
    "memoryGiB": 192,
    "name": "ml.m5.12xlarge",
    "vcpuNum": 48
   },
   {
    "_defaultOrder": 10,
    "_isFastLaunch": false,
    "category": "General purpose",
    "gpuNum": 0,
    "hideHardwareSpecs": false,
    "memoryGiB": 256,
    "name": "ml.m5.16xlarge",
    "vcpuNum": 64
   },
   {
    "_defaultOrder": 11,
    "_isFastLaunch": false,
    "category": "General purpose",
    "gpuNum": 0,
    "hideHardwareSpecs": false,
    "memoryGiB": 384,
    "name": "ml.m5.24xlarge",
    "vcpuNum": 96
   },
   {
    "_defaultOrder": 12,
    "_isFastLaunch": false,
    "category": "General purpose",
    "gpuNum": 0,
    "hideHardwareSpecs": false,
    "memoryGiB": 8,
    "name": "ml.m5d.large",
    "vcpuNum": 2
   },
   {
    "_defaultOrder": 13,
    "_isFastLaunch": false,
    "category": "General purpose",
    "gpuNum": 0,
    "hideHardwareSpecs": false,
    "memoryGiB": 16,
    "name": "ml.m5d.xlarge",
    "vcpuNum": 4
   },
   {
    "_defaultOrder": 14,
    "_isFastLaunch": false,
    "category": "General purpose",
    "gpuNum": 0,
    "hideHardwareSpecs": false,
    "memoryGiB": 32,
    "name": "ml.m5d.2xlarge",
    "vcpuNum": 8
   },
   {
    "_defaultOrder": 15,
    "_isFastLaunch": false,
    "category": "General purpose",
    "gpuNum": 0,
    "hideHardwareSpecs": false,
    "memoryGiB": 64,
    "name": "ml.m5d.4xlarge",
    "vcpuNum": 16
   },
   {
    "_defaultOrder": 16,
    "_isFastLaunch": false,
    "category": "General purpose",
    "gpuNum": 0,
    "hideHardwareSpecs": false,
    "memoryGiB": 128,
    "name": "ml.m5d.8xlarge",
    "vcpuNum": 32
   },
   {
    "_defaultOrder": 17,
    "_isFastLaunch": false,
    "category": "General purpose",
    "gpuNum": 0,
    "hideHardwareSpecs": false,
    "memoryGiB": 192,
    "name": "ml.m5d.12xlarge",
    "vcpuNum": 48
   },
   {
    "_defaultOrder": 18,
    "_isFastLaunch": false,
    "category": "General purpose",
    "gpuNum": 0,
    "hideHardwareSpecs": false,
    "memoryGiB": 256,
    "name": "ml.m5d.16xlarge",
    "vcpuNum": 64
   },
   {
    "_defaultOrder": 19,
    "_isFastLaunch": false,
    "category": "General purpose",
    "gpuNum": 0,
    "hideHardwareSpecs": false,
    "memoryGiB": 384,
    "name": "ml.m5d.24xlarge",
    "vcpuNum": 96
   },
   {
    "_defaultOrder": 20,
    "_isFastLaunch": false,
    "category": "General purpose",
    "gpuNum": 0,
    "hideHardwareSpecs": true,
    "memoryGiB": 0,
    "name": "ml.geospatial.interactive",
    "supportedImageNames": [
     "sagemaker-geospatial-v1-0"
    ],
    "vcpuNum": 0
   },
   {
    "_defaultOrder": 21,
    "_isFastLaunch": true,
    "category": "Compute optimized",
    "gpuNum": 0,
    "hideHardwareSpecs": false,
    "memoryGiB": 4,
    "name": "ml.c5.large",
    "vcpuNum": 2
   },
   {
    "_defaultOrder": 22,
    "_isFastLaunch": false,
    "category": "Compute optimized",
    "gpuNum": 0,
    "hideHardwareSpecs": false,
    "memoryGiB": 8,
    "name": "ml.c5.xlarge",
    "vcpuNum": 4
   },
   {
    "_defaultOrder": 23,
    "_isFastLaunch": false,
    "category": "Compute optimized",
    "gpuNum": 0,
    "hideHardwareSpecs": false,
    "memoryGiB": 16,
    "name": "ml.c5.2xlarge",
    "vcpuNum": 8
   },
   {
    "_defaultOrder": 24,
    "_isFastLaunch": false,
    "category": "Compute optimized",
    "gpuNum": 0,
    "hideHardwareSpecs": false,
    "memoryGiB": 32,
    "name": "ml.c5.4xlarge",
    "vcpuNum": 16
   },
   {
    "_defaultOrder": 25,
    "_isFastLaunch": false,
    "category": "Compute optimized",
    "gpuNum": 0,
    "hideHardwareSpecs": false,
    "memoryGiB": 72,
    "name": "ml.c5.9xlarge",
    "vcpuNum": 36
   },
   {
    "_defaultOrder": 26,
    "_isFastLaunch": false,
    "category": "Compute optimized",
    "gpuNum": 0,
    "hideHardwareSpecs": false,
    "memoryGiB": 96,
    "name": "ml.c5.12xlarge",
    "vcpuNum": 48
   },
   {
    "_defaultOrder": 27,
    "_isFastLaunch": false,
    "category": "Compute optimized",
    "gpuNum": 0,
    "hideHardwareSpecs": false,
    "memoryGiB": 144,
    "name": "ml.c5.18xlarge",
    "vcpuNum": 72
   },
   {
    "_defaultOrder": 28,
    "_isFastLaunch": false,
    "category": "Compute optimized",
    "gpuNum": 0,
    "hideHardwareSpecs": false,
    "memoryGiB": 192,
    "name": "ml.c5.24xlarge",
    "vcpuNum": 96
   },
   {
    "_defaultOrder": 29,
    "_isFastLaunch": true,
    "category": "Accelerated computing",
    "gpuNum": 1,
    "hideHardwareSpecs": false,
    "memoryGiB": 16,
    "name": "ml.g4dn.xlarge",
    "vcpuNum": 4
   },
   {
    "_defaultOrder": 30,
    "_isFastLaunch": false,
    "category": "Accelerated computing",
    "gpuNum": 1,
    "hideHardwareSpecs": false,
    "memoryGiB": 32,
    "name": "ml.g4dn.2xlarge",
    "vcpuNum": 8
   },
   {
    "_defaultOrder": 31,
    "_isFastLaunch": false,
    "category": "Accelerated computing",
    "gpuNum": 1,
    "hideHardwareSpecs": false,
    "memoryGiB": 64,
    "name": "ml.g4dn.4xlarge",
    "vcpuNum": 16
   },
   {
    "_defaultOrder": 32,
    "_isFastLaunch": false,
    "category": "Accelerated computing",
    "gpuNum": 1,
    "hideHardwareSpecs": false,
    "memoryGiB": 128,
    "name": "ml.g4dn.8xlarge",
    "vcpuNum": 32
   },
   {
    "_defaultOrder": 33,
    "_isFastLaunch": false,
    "category": "Accelerated computing",
    "gpuNum": 4,
    "hideHardwareSpecs": false,
    "memoryGiB": 192,
    "name": "ml.g4dn.12xlarge",
    "vcpuNum": 48
   },
   {
    "_defaultOrder": 34,
    "_isFastLaunch": false,
    "category": "Accelerated computing",
    "gpuNum": 1,
    "hideHardwareSpecs": false,
    "memoryGiB": 256,
    "name": "ml.g4dn.16xlarge",
    "vcpuNum": 64
   },
   {
    "_defaultOrder": 35,
    "_isFastLaunch": false,
    "category": "Accelerated computing",
    "gpuNum": 1,
    "hideHardwareSpecs": false,
    "memoryGiB": 61,
    "name": "ml.p3.2xlarge",
    "vcpuNum": 8
   },
   {
    "_defaultOrder": 36,
    "_isFastLaunch": false,
    "category": "Accelerated computing",
    "gpuNum": 4,
    "hideHardwareSpecs": false,
    "memoryGiB": 244,
    "name": "ml.p3.8xlarge",
    "vcpuNum": 32
   },
   {
    "_defaultOrder": 37,
    "_isFastLaunch": false,
    "category": "Accelerated computing",
    "gpuNum": 8,
    "hideHardwareSpecs": false,
    "memoryGiB": 488,
    "name": "ml.p3.16xlarge",
    "vcpuNum": 64
   },
   {
    "_defaultOrder": 38,
    "_isFastLaunch": false,
    "category": "Accelerated computing",
    "gpuNum": 8,
    "hideHardwareSpecs": false,
    "memoryGiB": 768,
    "name": "ml.p3dn.24xlarge",
    "vcpuNum": 96
   },
   {
    "_defaultOrder": 39,
    "_isFastLaunch": false,
    "category": "Memory Optimized",
    "gpuNum": 0,
    "hideHardwareSpecs": false,
    "memoryGiB": 16,
    "name": "ml.r5.large",
    "vcpuNum": 2
   },
   {
    "_defaultOrder": 40,
    "_isFastLaunch": false,
    "category": "Memory Optimized",
    "gpuNum": 0,
    "hideHardwareSpecs": false,
    "memoryGiB": 32,
    "name": "ml.r5.xlarge",
    "vcpuNum": 4
   },
   {
    "_defaultOrder": 41,
    "_isFastLaunch": false,
    "category": "Memory Optimized",
    "gpuNum": 0,
    "hideHardwareSpecs": false,
    "memoryGiB": 64,
    "name": "ml.r5.2xlarge",
    "vcpuNum": 8
   },
   {
    "_defaultOrder": 42,
    "_isFastLaunch": false,
    "category": "Memory Optimized",
    "gpuNum": 0,
    "hideHardwareSpecs": false,
    "memoryGiB": 128,
    "name": "ml.r5.4xlarge",
    "vcpuNum": 16
   },
   {
    "_defaultOrder": 43,
    "_isFastLaunch": false,
    "category": "Memory Optimized",
    "gpuNum": 0,
    "hideHardwareSpecs": false,
    "memoryGiB": 256,
    "name": "ml.r5.8xlarge",
    "vcpuNum": 32
   },
   {
    "_defaultOrder": 44,
    "_isFastLaunch": false,
    "category": "Memory Optimized",
    "gpuNum": 0,
    "hideHardwareSpecs": false,
    "memoryGiB": 384,
    "name": "ml.r5.12xlarge",
    "vcpuNum": 48
   },
   {
    "_defaultOrder": 45,
    "_isFastLaunch": false,
    "category": "Memory Optimized",
    "gpuNum": 0,
    "hideHardwareSpecs": false,
    "memoryGiB": 512,
    "name": "ml.r5.16xlarge",
    "vcpuNum": 64
   },
   {
    "_defaultOrder": 46,
    "_isFastLaunch": false,
    "category": "Memory Optimized",
    "gpuNum": 0,
    "hideHardwareSpecs": false,
    "memoryGiB": 768,
    "name": "ml.r5.24xlarge",
    "vcpuNum": 96
   },
   {
    "_defaultOrder": 47,
    "_isFastLaunch": false,
    "category": "Accelerated computing",
    "gpuNum": 1,
    "hideHardwareSpecs": false,
    "memoryGiB": 16,
    "name": "ml.g5.xlarge",
    "vcpuNum": 4
   },
   {
    "_defaultOrder": 48,
    "_isFastLaunch": false,
    "category": "Accelerated computing",
    "gpuNum": 1,
    "hideHardwareSpecs": false,
    "memoryGiB": 32,
    "name": "ml.g5.2xlarge",
    "vcpuNum": 8
   },
   {
    "_defaultOrder": 49,
    "_isFastLaunch": false,
    "category": "Accelerated computing",
    "gpuNum": 1,
    "hideHardwareSpecs": false,
    "memoryGiB": 64,
    "name": "ml.g5.4xlarge",
    "vcpuNum": 16
   },
   {
    "_defaultOrder": 50,
    "_isFastLaunch": false,
    "category": "Accelerated computing",
    "gpuNum": 1,
    "hideHardwareSpecs": false,
    "memoryGiB": 128,
    "name": "ml.g5.8xlarge",
    "vcpuNum": 32
   },
   {
    "_defaultOrder": 51,
    "_isFastLaunch": false,
    "category": "Accelerated computing",
    "gpuNum": 1,
    "hideHardwareSpecs": false,
    "memoryGiB": 256,
    "name": "ml.g5.16xlarge",
    "vcpuNum": 64
   },
   {
    "_defaultOrder": 52,
    "_isFastLaunch": false,
    "category": "Accelerated computing",
    "gpuNum": 4,
    "hideHardwareSpecs": false,
    "memoryGiB": 192,
    "name": "ml.g5.12xlarge",
    "vcpuNum": 48
   },
   {
    "_defaultOrder": 53,
    "_isFastLaunch": false,
    "category": "Accelerated computing",
    "gpuNum": 4,
    "hideHardwareSpecs": false,
    "memoryGiB": 384,
    "name": "ml.g5.24xlarge",
    "vcpuNum": 96
   },
   {
    "_defaultOrder": 54,
    "_isFastLaunch": false,
    "category": "Accelerated computing",
    "gpuNum": 8,
    "hideHardwareSpecs": false,
    "memoryGiB": 768,
    "name": "ml.g5.48xlarge",
    "vcpuNum": 192
   },
   {
    "_defaultOrder": 55,
    "_isFastLaunch": false,
    "category": "Accelerated computing",
    "gpuNum": 8,
    "hideHardwareSpecs": false,
    "memoryGiB": 1152,
    "name": "ml.p4d.24xlarge",
    "vcpuNum": 96
   },
   {
    "_defaultOrder": 56,
    "_isFastLaunch": false,
    "category": "Accelerated computing",
    "gpuNum": 8,
    "hideHardwareSpecs": false,
    "memoryGiB": 1152,
    "name": "ml.p4de.24xlarge",
    "vcpuNum": 96
   }
  ],
  "instance_type": "ml.r5.xlarge",
  "kernelspec": {
   "display_name": "base",
   "language": "python",
   "name": "python3"
  },
  "language_info": {
   "codemirror_mode": {
    "name": "ipython",
    "version": 3
   },
   "file_extension": ".py",
   "mimetype": "text/x-python",
   "name": "python",
   "nbconvert_exporter": "python",
   "pygments_lexer": "ipython3",
   "version": "3.11.5"
  },
  "lcc_arn": "arn:aws:sagemaker:ap-southeast-2:329866267174:studio-lifecycle-config/sagemaker-connect-startup"
 },
 "nbformat": 4,
 "nbformat_minor": 5
}
